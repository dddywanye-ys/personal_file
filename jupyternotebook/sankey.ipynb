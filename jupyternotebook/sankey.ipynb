{
 "cells": [
  {
   "cell_type": "code",
   "execution_count": null,
   "id": "7cef08af-c050-482d-8aa0-777311596de9",
   "metadata": {},
   "outputs": [],
   "source": [
    "from bs4 import BeautifulSoup     #网页解析，获取数据\\n\",\n",
    "import re       #正则表达式，进行文字匹配\\n\",\n",
    "import urllib.request,urllib.error      #制定URL，获取网页数据\\n\",\n",
    "# import xlwt     #进行excel操作\\n\",\n",
    "import sqlite3  #进行SQLite数据库操作\\n\",\n",
    "import pandas as pd #存储数据及处理数据\\n\",\n",
    "import numpy as np\n",
    "import requests\n",
    "import random\n",
    "import time\n",
    "from collections import defaultdict\n",
    "from collections import deque\n",
    "from collections import Counter\n",
    "import collections\n",
    "import json\n",
    "import sys\n",
    "import datetime\n",
    "import os\n",
    "import csv\n",
    "from math import *\n",
    "import pymysql\n",
    "# from geopy.distance import geodesic\n",
    "# from pyproj import Proj\n",
    "pd.set_option(\"display.max_columns\", 100)\n",
    "\n",
    "from scipy.interpolate import interp1d\n",
    "import jieba\n",
    "from collections import Counter"
   ]
  },
  {
   "cell_type": "code",
   "execution_count": null,
   "id": "9516b0b5-278f-49a6-9b59-fd8e44855eeb",
   "metadata": {},
   "outputs": [],
   "source": [
    "# {\n",
    "#           name: 'Werne',\n",
    "#           itemStyle: {\n",
    "#             color: '#f18bbf',\n",
    "#             borderColor: '#f18bbf'\n",
    "#           }\n",
    "#         },\n",
    "\n",
    "# {\n",
    "#           source: 'SuperiorCard',\n",
    "#           target: 'GBP',\n",
    "#           value: 8228.39999615401\n",
    "#         },\n",
    "\n",
    "# 查颜色https://www.colorhexa.com/ea005e#schemes\n",
    "\n",
    "# 绘图https://echarts.apache.org/examples/zh/editor.html?c=sankey-itemstyle\n"
   ]
  },
  {
   "cell_type": "code",
   "execution_count": null,
   "id": "24d517a6-ae2a-4b64-949b-8d6d43b603cd",
   "metadata": {},
   "outputs": [],
   "source": [
    "ls_xf=df_sankey_1['项目大类'].unique().tolist()\n",
    "ls_gf=df_sankey_1['项目中类'].unique().tolist()\n",
    "ls_pro=df_sankey_1['涉及部委'].unique().tolist()\n",
    "ls_pro_1=list(set([y for x in ls_pro for y in x.split('、') ]))\n",
    "for a in ls_xf:\n",
    "    print(\"{name: '\"+a+\"'},\")\n",
    "for b in ls_gf:\n",
    "    print(\"{name: '\"+b+\"'},\")\n",
    "for c in ls_pro_1:\n",
    "    print(\"{name: '\"+c+\"'},\")\n",
    "    \n",
    "    \n",
    "for i in range(len(df_sankey_1)):\n",
    "    name_xf=df_sankey_1.loc[i,'项目大类']\n",
    "    name_pro=df_sankey_1.loc[i,'项目中类']\n",
    "    print(\"{source: '\"+name_xf+\"',target: '\"+name_pro+\"',value: \"+str(1)+\"},\")\n",
    "    \n",
    "for i in range(len(df_sankey_1)):\n",
    "    name_xf=df_sankey_1.loc[i,'项目中类']\n",
    "    for j in ls_pro_1:\n",
    "        df_j=df_sankey_2.loc[(df_sankey_2['渭河流域项目中类']==name_xf)&(df_sankey_2['主管部门'].str.contains(j))]\n",
    "        weight_1=len(df_j)\n",
    "        if weight_1>0:\n",
    "            print(\"{source: '\"+name_xf+\"',target: '\"+j+\"',value: \"+str(weight_1)+\"},\")"
   ]
  }
 ],
 "metadata": {
  "kernelspec": {
   "display_name": "Python 3 (ipykernel)",
   "language": "python",
   "name": "python3"
  },
  "language_info": {
   "codemirror_mode": {
    "name": "ipython",
    "version": 3
   },
   "file_extension": ".py",
   "mimetype": "text/x-python",
   "name": "python",
   "nbconvert_exporter": "python",
   "pygments_lexer": "ipython3",
   "version": "3.9.13"
  }
 },
 "nbformat": 4,
 "nbformat_minor": 5
}

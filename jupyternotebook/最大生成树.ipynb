{
 "cells": [
  {
   "cell_type": "code",
   "execution_count": 10,
   "id": "e2137144",
   "metadata": {},
   "outputs": [],
   "source": [
    "from bs4 import BeautifulSoup     #网页解析，获取数据\n",
    "import re       #正则表达式，进行文字匹配\n",
    "import urllib.request,urllib.error      #制定URL，获取网页数据\n",
    "import xlwt     #进行excel操作\n",
    "import sqlite3  #进行SQLite数据库操作\n",
    "import pandas as pd #存储数据及处理数据\n",
    "import numpy as np\n",
    "import requests\n",
    "import random\n",
    "import time\n",
    "from collections import defaultdict\n",
    "from collections import deque\n",
    "from collections import Counter\n",
    "import collections\n",
    "import json\n",
    "import sys\n",
    "import datetime\n",
    "import os\n",
    "import math\n",
    "from decimal import *\n",
    "import threading\n"
   ]
  },
  {
   "cell_type": "code",
   "execution_count": 2,
   "id": "e18ad007",
   "metadata": {},
   "outputs": [],
   "source": [
    "_=float('inf')\n",
    "def prim(graph,n):\n",
    "    for i in range(n):\n",
    "        for j in range(n):\n",
    "            if graph[i][j] >0:\n",
    "                graph[i][j] = float(1)/graph[i][j]\n",
    "            if graph[i][j] == 0:\n",
    "                graph[i][j] = _\n",
    "    dis=[0]*n\n",
    "    pre=[0]*n\n",
    "    flag=[False]*n\n",
    "    flag[0]=True\n",
    "    k=0\n",
    "    for i in range(n):\n",
    "        dis[i]=graph[k][i]\n",
    "    # print dis\n",
    "    for j in range(n-1):\n",
    "        mini=_\n",
    "        for i in range(n):\n",
    "            if mini>dis[i] and not flag[i]:\n",
    "                mini=dis[i]\n",
    "                k=i\n",
    "        # print k\n",
    "\n",
    "        if k==0:\n",
    "            return\n",
    "        flag[k]=True\n",
    "        for i in range(n):\n",
    "            if dis[i]>graph[k][i] and not flag[i]:\n",
    "                dis[i]=graph[k][i]\n",
    "                pre[i]=k\n",
    "        # print dis\n",
    "    dis = [float(1)/i for i in dis]\n",
    "    return dis,pre"
   ]
  },
  {
   "cell_type": "code",
   "execution_count": 16,
   "id": "ed1dcb14",
   "metadata": {},
   "outputs": [],
   "source": [
    "# 读取行业小类数据\n",
    "df_ind_small_11=pd.read_excel('E:\\\\pingxiang\\\\11AND17_INDUSTRY.xlsx',sheet_name='11_small')\n",
    "df_ind_small_17=pd.read_excel('E:\\\\pingxiang\\\\11AND17_INDUSTRY.xlsx',sheet_name='17_small')"
   ]
  },
  {
   "cell_type": "code",
   "execution_count": 20,
   "id": "3d94e196",
   "metadata": {},
   "outputs": [
    {
     "data": {
      "text/plain": [
       "1381"
      ]
     },
     "execution_count": 20,
     "metadata": {},
     "output_type": "execute_result"
    }
   ],
   "source": [
    "ls_small_17=df_ind_small_17['GB/T 4754-2017'].tolist()\n",
    "ls_small_17=list(Counter(ls_small_17))\n",
    "len(ls_small_17)"
   ]
  },
  {
   "cell_type": "code",
   "execution_count": 36,
   "id": "aba7ed1a",
   "metadata": {},
   "outputs": [
    {
     "data": {
      "text/plain": [
       "1094"
      ]
     },
     "execution_count": 36,
     "metadata": {},
     "output_type": "execute_result"
    }
   ],
   "source": [
    "ls_small_11=df_ind_small_11['GB/T 4754-2011'].tolist()\n",
    "ls_small_11=list(Counter(ls_small_11))\n",
    "len(ls_small_11)"
   ]
  },
  {
   "cell_type": "code",
   "execution_count": 39,
   "id": "b7dfc52e",
   "metadata": {},
   "outputs": [
    {
     "data": {
      "text/html": [
       "<div>\n",
       "<style scoped>\n",
       "    .dataframe tbody tr th:only-of-type {\n",
       "        vertical-align: middle;\n",
       "    }\n",
       "\n",
       "    .dataframe tbody tr th {\n",
       "        vertical-align: top;\n",
       "    }\n",
       "\n",
       "    .dataframe thead th {\n",
       "        text-align: right;\n",
       "    }\n",
       "</style>\n",
       "<table border=\"1\" class=\"dataframe\">\n",
       "  <thead>\n",
       "    <tr style=\"text-align: right;\">\n",
       "      <th></th>\n",
       "      <th>Source</th>\n",
       "      <th>Target</th>\n",
       "      <th>Weight</th>\n",
       "    </tr>\n",
       "  </thead>\n",
       "  <tbody>\n",
       "    <tr>\n",
       "      <th>0</th>\n",
       "      <td>111</td>\n",
       "      <td>5111</td>\n",
       "      <td>0.288136</td>\n",
       "    </tr>\n",
       "    <tr>\n",
       "      <th>1</th>\n",
       "      <td>111</td>\n",
       "      <td>5112</td>\n",
       "      <td>0.235955</td>\n",
       "    </tr>\n",
       "    <tr>\n",
       "      <th>2</th>\n",
       "      <td>111</td>\n",
       "      <td>5113</td>\n",
       "      <td>0.214286</td>\n",
       "    </tr>\n",
       "    <tr>\n",
       "      <th>3</th>\n",
       "      <td>111</td>\n",
       "      <td>5114</td>\n",
       "      <td>0.271186</td>\n",
       "    </tr>\n",
       "    <tr>\n",
       "      <th>4</th>\n",
       "      <td>111</td>\n",
       "      <td>5115</td>\n",
       "      <td>0.237288</td>\n",
       "    </tr>\n",
       "    <tr>\n",
       "      <th>...</th>\n",
       "      <td>...</td>\n",
       "      <td>...</td>\n",
       "      <td>...</td>\n",
       "    </tr>\n",
       "    <tr>\n",
       "      <th>130187</th>\n",
       "      <td>5919</td>\n",
       "      <td>8930</td>\n",
       "      <td>0.015625</td>\n",
       "    </tr>\n",
       "    <tr>\n",
       "      <th>130188</th>\n",
       "      <td>5919</td>\n",
       "      <td>8941</td>\n",
       "      <td>0.078125</td>\n",
       "    </tr>\n",
       "    <tr>\n",
       "      <th>130189</th>\n",
       "      <td>5919</td>\n",
       "      <td>8942</td>\n",
       "      <td>0.250000</td>\n",
       "    </tr>\n",
       "    <tr>\n",
       "      <th>130190</th>\n",
       "      <td>5919</td>\n",
       "      <td>8949</td>\n",
       "      <td>0.203125</td>\n",
       "    </tr>\n",
       "    <tr>\n",
       "      <th>130191</th>\n",
       "      <td>5919</td>\n",
       "      <td>8990</td>\n",
       "      <td>0.234375</td>\n",
       "    </tr>\n",
       "  </tbody>\n",
       "</table>\n",
       "<p>130192 rows × 3 columns</p>\n",
       "</div>"
      ],
      "text/plain": [
       "        Source  Target    Weight\n",
       "0          111    5111  0.288136\n",
       "1          111    5112  0.235955\n",
       "2          111    5113  0.214286\n",
       "3          111    5114  0.271186\n",
       "4          111    5115  0.237288\n",
       "...        ...     ...       ...\n",
       "130187    5919    8930  0.015625\n",
       "130188    5919    8941  0.078125\n",
       "130189    5919    8942  0.250000\n",
       "130190    5919    8949  0.203125\n",
       "130191    5919    8990  0.234375\n",
       "\n",
       "[130192 rows x 3 columns]"
      ]
     },
     "execution_count": 39,
     "metadata": {},
     "output_type": "execute_result"
    }
   ],
   "source": [
    "newlinkdf = pd.read_csv('E:\\\\pingxiang\\\\addProducerService_weighted23f3_0.25_pp_2022_productService.csv',encoding='gbk')\n",
    "newlinkdf"
   ]
  },
  {
   "cell_type": "code",
   "execution_count": 43,
   "id": "d5cba647",
   "metadata": {},
   "outputs": [
    {
     "data": {
      "text/html": [
       "<div>\n",
       "<style scoped>\n",
       "    .dataframe tbody tr th:only-of-type {\n",
       "        vertical-align: middle;\n",
       "    }\n",
       "\n",
       "    .dataframe tbody tr th {\n",
       "        vertical-align: top;\n",
       "    }\n",
       "\n",
       "    .dataframe thead th {\n",
       "        text-align: right;\n",
       "    }\n",
       "</style>\n",
       "<table border=\"1\" class=\"dataframe\">\n",
       "  <thead>\n",
       "    <tr style=\"text-align: right;\">\n",
       "      <th></th>\n",
       "      <th>Source</th>\n",
       "      <th>Target</th>\n",
       "      <th>Weight</th>\n",
       "    </tr>\n",
       "  </thead>\n",
       "  <tbody>\n",
       "    <tr>\n",
       "      <th>0</th>\n",
       "      <td>111</td>\n",
       "      <td>5111</td>\n",
       "      <td>0.288136</td>\n",
       "    </tr>\n",
       "    <tr>\n",
       "      <th>1</th>\n",
       "      <td>111</td>\n",
       "      <td>5112</td>\n",
       "      <td>0.235955</td>\n",
       "    </tr>\n",
       "    <tr>\n",
       "      <th>2</th>\n",
       "      <td>111</td>\n",
       "      <td>5113</td>\n",
       "      <td>0.214286</td>\n",
       "    </tr>\n",
       "    <tr>\n",
       "      <th>3</th>\n",
       "      <td>111</td>\n",
       "      <td>5114</td>\n",
       "      <td>0.271186</td>\n",
       "    </tr>\n",
       "    <tr>\n",
       "      <th>4</th>\n",
       "      <td>111</td>\n",
       "      <td>5115</td>\n",
       "      <td>0.237288</td>\n",
       "    </tr>\n",
       "    <tr>\n",
       "      <th>...</th>\n",
       "      <td>...</td>\n",
       "      <td>...</td>\n",
       "      <td>...</td>\n",
       "    </tr>\n",
       "    <tr>\n",
       "      <th>130187</th>\n",
       "      <td>5919</td>\n",
       "      <td>8930</td>\n",
       "      <td>0.015625</td>\n",
       "    </tr>\n",
       "    <tr>\n",
       "      <th>130188</th>\n",
       "      <td>5919</td>\n",
       "      <td>8941</td>\n",
       "      <td>0.078125</td>\n",
       "    </tr>\n",
       "    <tr>\n",
       "      <th>130189</th>\n",
       "      <td>5919</td>\n",
       "      <td>8942</td>\n",
       "      <td>0.250000</td>\n",
       "    </tr>\n",
       "    <tr>\n",
       "      <th>130190</th>\n",
       "      <td>5919</td>\n",
       "      <td>8949</td>\n",
       "      <td>0.203125</td>\n",
       "    </tr>\n",
       "    <tr>\n",
       "      <th>130191</th>\n",
       "      <td>5919</td>\n",
       "      <td>8990</td>\n",
       "      <td>0.234375</td>\n",
       "    </tr>\n",
       "  </tbody>\n",
       "</table>\n",
       "<p>130192 rows × 3 columns</p>\n",
       "</div>"
      ],
      "text/plain": [
       "        Source  Target    Weight\n",
       "0          111    5111  0.288136\n",
       "1          111    5112  0.235955\n",
       "2          111    5113  0.214286\n",
       "3          111    5114  0.271186\n",
       "4          111    5115  0.237288\n",
       "...        ...     ...       ...\n",
       "130187    5919    8930  0.015625\n",
       "130188    5919    8941  0.078125\n",
       "130189    5919    8942  0.250000\n",
       "130190    5919    8949  0.203125\n",
       "130191    5919    8990  0.234375\n",
       "\n",
       "[130192 rows x 3 columns]"
      ]
     },
     "execution_count": 43,
     "metadata": {},
     "output_type": "execute_result"
    }
   ],
   "source": [
    "newlinkdf = newlinkdf.loc[(newlinkdf['Source'].isin(ls_small_11))&(newlinkdf['Target'].isin(ls_small_11))]\n",
    "newlinkdf"
   ]
  },
  {
   "cell_type": "code",
   "execution_count": 44,
   "id": "bd122f57",
   "metadata": {},
   "outputs": [],
   "source": [
    "codedf = pd.concat([newlinkdf[['Source']],newlinkdf[['Target']].rename(columns={'Target':'Source'})],ignore_index=True).drop_duplicates()\n",
    "codedf = codedf.rename(columns={'Source':'id'}).sort_values('id',ascending=True).reset_index().drop('index',axis=1)\n",
    "df = pd.DataFrame(index=pd.MultiIndex.from_product([list(codedf['id']),list(codedf['id'])],names=['Source','Target'])).reset_index()\n",
    "df= pd.merge(df,newlinkdf[['Source','Target','Weight']],left_on=['Source','Target'],right_on=['Source','Target'],how='outer').fillna(0)\n",
    "df = df.pivot(index='Source',columns='Target',values='Weight')\n",
    "graph = df.values.tolist()"
   ]
  },
  {
   "cell_type": "code",
   "execution_count": 45,
   "id": "f2eb46b4",
   "metadata": {},
   "outputs": [],
   "source": [
    "for i in range(len(graph)):\n",
    "    for j in range(len(graph)):\n",
    "        graph[i][j] = max(graph[i][j],graph[j][i])\n",
    "        graph[j][i] = max(graph[i][j], graph[j][i])\n",
    "n = len(graph)\n",
    "dis,pre = prim(graph,n)"
   ]
  },
  {
   "cell_type": "code",
   "execution_count": 46,
   "id": "c3ff13e9",
   "metadata": {},
   "outputs": [
    {
     "name": "stdout",
     "output_type": "stream",
     "text": [
      "node number is  838 edge number is  837\n"
     ]
    },
    {
     "name": "stderr",
     "output_type": "stream",
     "text": [
      "<ipython-input-46-fae348b44599>:10: SettingWithCopyWarning: \n",
      "A value is trying to be set on a copy of a slice from a DataFrame\n",
      "\n",
      "See the caveats in the documentation: https://pandas.pydata.org/pandas-docs/stable/user_guide/indexing.html#returning-a-view-versus-a-copy\n",
      "  mstdf['Source'][mstdf['Source'].str.len() <3] = mstdf['Source'].apply(lambda x: '0' + str(x))\n",
      "<ipython-input-46-fae348b44599>:11: SettingWithCopyWarning: \n",
      "A value is trying to be set on a copy of a slice from a DataFrame\n",
      "\n",
      "See the caveats in the documentation: https://pandas.pydata.org/pandas-docs/stable/user_guide/indexing.html#returning-a-view-versus-a-copy\n",
      "  mstdf['Target'][mstdf['Target'].str.len() <3] = mstdf['Target'].apply(lambda x: '0' + str(x))\n"
     ]
    }
   ],
   "source": [
    "mstdf = pd.DataFrame(columns=['Source','Target','Weight'])\n",
    "mstdf['Source'] = [codedf['id'].values.tolist()[i] for i in pre]\n",
    "mstdf['Target'] = codedf['id']\n",
    "mstdf['Weight'] = dis\n",
    "mstdf = mstdf[mstdf['Source']!=mstdf['Target']]\n",
    "mstdf = pd.merge(mstdf,codedf,left_on='Source',right_on='id',how='left').drop('id',axis=1)\n",
    "mstdf = pd.merge(mstdf,codedf,left_on='Target',right_on='id',how='left').drop('id',axis=1)\n",
    "mstdf['Source'] = [str(i) for i in mstdf['Source']]\n",
    "mstdf['Target'] = [str(i) for i in mstdf['Target']]\n",
    "mstdf['Source'][mstdf['Source'].str.len() <3] = mstdf['Source'].apply(lambda x: '0' + str(x))\n",
    "mstdf['Target'][mstdf['Target'].str.len() <3] = mstdf['Target'].apply(lambda x: '0' + str(x))\n",
    "mstdf['Type'] = 'undirected'\n",
    "print('node number is ', codedf.shape[0], 'edge number is ', mstdf.shape[0])\n",
    "mstdf.to_csv('E:\\\\pingxiang\\\\addProducerService_weighted23f3_0.25_pp_2017_productService_MST_0_dys.csv',encoding='gbk',index=False)"
   ]
  },
  {
   "cell_type": "code",
   "execution_count": 47,
   "id": "7095a35e",
   "metadata": {},
   "outputs": [
    {
     "name": "stdout",
     "output_type": "stream",
     "text": [
      "129355\n",
      "node count is  837 ;edge count is  1684\n"
     ]
    }
   ],
   "source": [
    "pd_all = pd.read_csv('E:\\\\pingxiang\\\\addProducerService_weighted23f3_0.25_pp_2022_productService.csv',encoding='gbk')\n",
    "pd_mst = pd.read_csv('E:\\\\pingxiang\\\\addProducerService_weighted23f3_0.25_pp_2017_productService_MST_0_dys.csv',encoding='gbk')\n",
    "pd_mst = pd_mst.loc[:,['Source','Target','Weight']]\n",
    "len_mst = len(pd_mst)\n",
    "pd_mst['tempsource'] = pd_mst['Source']\n",
    "pd_mst_ = pd_mst.copy()\n",
    "pd_mst_['Source'] = pd_mst_['Target']\n",
    "pd_mst_['Target'] = pd_mst_['tempsource']\n",
    "pd_mst_  = pd.concat([pd_mst,pd_mst_])\n",
    "pd_mst_.drop('tempsource',axis = 1,inplace = True)\n",
    "pd_mst.drop('tempsource',axis = 1,inplace = True)\n",
    "pd_merge = pd.merge(pd_all,pd_mst_, on=['Source','Target'],how='left')\n",
    "pd_merge.fillna(-1,inplace=True)\n",
    "pd_merge = pd_merge[pd_merge['Weight_y']<0]\n",
    "print (len(pd_merge))\n",
    "pd_merge.rename(columns={'Weight_x':'Weight'},inplace=True)\n",
    "pd_merge = pd_merge.loc[:,['Source','Target','Weight']]\n",
    "pd_merge = pd_merge.sort_values('Weight',ascending=False)\n",
    "threshold = pd_merge.iloc[len_mst+1,2]\n",
    "#threshold = 0.78\n",
    "pd_merge = pd_merge[pd_merge['Weight']>=threshold]\n",
    "pd_result = pd.concat([pd_merge,pd_mst])\n",
    "pd_result['Type'] = 'undirected'\n",
    "print ('node count is ',len_mst,';edge count is ',len(pd_result))\n",
    "pd_result.to_csv('E:\\\\pingxiang\\\\addProducerService_weighted23f3_0.25_pp_2022_productService'+'_'+str(threshold)+'_1.csv',index=False,encoding='utf-8')"
   ]
  },
  {
   "cell_type": "code",
   "execution_count": null,
   "id": "f2b75f66",
   "metadata": {},
   "outputs": [],
   "source": []
  }
 ],
 "metadata": {
  "kernelspec": {
   "display_name": "Python 3 (ipykernel)",
   "language": "python",
   "name": "python3"
  },
  "language_info": {
   "codemirror_mode": {
    "name": "ipython",
    "version": 3
   },
   "file_extension": ".py",
   "mimetype": "text/x-python",
   "name": "python",
   "nbconvert_exporter": "python",
   "pygments_lexer": "ipython3",
   "version": "3.9.13"
  }
 },
 "nbformat": 4,
 "nbformat_minor": 5
}

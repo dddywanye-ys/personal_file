{
 "cells": [
  {
   "cell_type": "code",
   "execution_count": 1,
   "id": "8ccab904-2863-4a3b-8129-e2abc8d01fc1",
   "metadata": {},
   "outputs": [],
   "source": [
    "from openai import OpenAI\n",
    "import openai"
   ]
  },
  {
   "cell_type": "code",
   "execution_count": 3,
   "id": "5cb2106a-b96e-40fc-a49e-e556c343f55a",
   "metadata": {},
   "outputs": [
    {
     "name": "stdout",
     "output_type": "stream",
     "text": [
      "ChatCompletion(id='chatcmpl-678f8b191300939c5e903fdb', choices=[Choice(finish_reason='stop', index=0, logprobs=None, message=ChatCompletionMessage(content='你好！很高兴为你服务。有什么可以帮助你的吗？', refusal=None, role='assistant', audio=None, function_call=None, tool_calls=None))], created=1737460505, model='moonshot-v1-8k', object='chat.completion', service_tier=None, system_fingerprint=None, usage=CompletionUsage(completion_tokens=12, prompt_tokens=8, total_tokens=20, completion_tokens_details=None, prompt_tokens_details=None))\n"
     ]
    }
   ],
   "source": [
    "# kimi\n",
    "# sk-fgAxMAnJDvjn3Xv8F2VPaCDKRTNrfnv71ETA4RpIFLdvWdKe\n",
    "# moonshot-v1-8k:它是一个长度为 8k 的模型，适用于生成短文本\n",
    "# moonshot-v1-32k:它是一个长度为 32k 的模型，适用于生成长文本\n",
    "# moonshot-v1-128k:它是一个长度为 128k 的模型，适用于生成超长文本,\n",
    "client = OpenAI(\n",
    "api_key=\"sk-fgAxMAnJDvjn3Xv8F2VPaCDKRTNrfnv71ETA4RpIFLdvWdKe\",\n",
    "base_url=\"https://api.moonshot.cn/v1\"\n",
    "    )\n",
    "completion = client.chat.completions.create(\n",
    "model=\"moonshot-v1-8k\",\n",
    "messages=[\n",
    "{\"role\": \"user\", \"content\": \"你好\"}\n",
    "])\n",
    "\n",
    "print(completion)"
   ]
  },
  {
   "cell_type": "code",
   "execution_count": 9,
   "id": "22da6a70-e8db-491f-8182-293c733c4747",
   "metadata": {},
   "outputs": [
    {
     "name": "stdout",
     "output_type": "stream",
     "text": [
      "ChatCompletion(id='chatcmpl-67906698e936f6dbf55dfc51', choices=[Choice(finish_reason='stop', index=0, logprobs=None, message=ChatCompletionMessage(content='北京市海淀区是中国北京市的一个行政区，以其高科技产业和教育资源丰富而闻名。海淀区拥有众多的商贸服务企业，这些企业涵盖了各种行业，包括但不限于：\\n\\n1. **零售业**：大型购物中心、超市、便利店等。\\n2. **餐饮业**：各种中西餐厅、快餐店、咖啡馆等。\\n3. **酒店业**：星级酒店、经济型酒店、民宿等。\\n4. **金融服务业**：银行、证券公司、保险公司等。\\n5. **咨询服务业**：法律咨询、财务咨询、管理咨询等。\\n6. **科技服务业**：软件开发、信息技术服务、互联网服务等。\\n7. **物流服务业**：快递、仓储、运输等。\\n8. **教育服务业**：培训机构、在线教育平台等。\\n9. **医疗健康服务业**：医院、诊所、健康管理中心等。\\n10. **房地产服务业**：房地产开发、物业管理、房产中介等。\\n\\n海淀区作为北京的科技和教育中心，商贸服务企业的发展也非常活跃，为当地居民和企业提供了丰富的服务选择。如果你需要更具体的信息，比如某个特定行业的企业名单或者某个企业的详细信息，可以提供更多的上下文，我会尽力提供帮助。', refusal=None, role='assistant', audio=None, function_call=None, tool_calls=None))], created=1737516696, model='moonshot-v1-128k', object='chat.completion', service_tier=None, system_fingerprint=None, usage=CompletionUsage(completion_tokens=246, prompt_tokens=13, total_tokens=259, completion_tokens_details=None, prompt_tokens_details=None))\n"
     ]
    }
   ],
   "source": [
    "client = OpenAI(\n",
    "api_key=\"sk-fgAxMAnJDvjn3Xv8F2VPaCDKRTNrfnv71ETA4RpIFLdvWdKe\",\n",
    "base_url=\"https://api.moonshot.cn/v1\"\n",
    "    )\n",
    "completion = client.chat.completions.create(\n",
    "model=\"moonshot-v1-128k\",\n",
    "messages=[\n",
    "{\"role\": \"user\", \"content\": \"北京市海淀区的商贸服务企业\"}\n",
    "])\n",
    "\n",
    "print(completion)"
   ]
  },
  {
   "cell_type": "code",
   "execution_count": null,
   "id": "eb8ab47d-8b7f-4d37-bcfc-ee2159b92d82",
   "metadata": {},
   "outputs": [],
   "source": []
  }
 ],
 "metadata": {
  "kernelspec": {
   "display_name": "Python 3 (ipykernel)",
   "language": "python",
   "name": "python3"
  },
  "language_info": {
   "codemirror_mode": {
    "name": "ipython",
    "version": 3
   },
   "file_extension": ".py",
   "mimetype": "text/x-python",
   "name": "python",
   "nbconvert_exporter": "python",
   "pygments_lexer": "ipython3",
   "version": "3.9.13"
  }
 },
 "nbformat": 4,
 "nbformat_minor": 5
}

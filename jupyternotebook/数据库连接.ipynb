{
 "cells": [
  {
   "cell_type": "code",
   "execution_count": 1,
   "id": "3b99a3b1-5f44-4b37-8a81-dd64eb3b2cb0",
   "metadata": {},
   "outputs": [],
   "source": [
    "from bs4 import BeautifulSoup     #网页解析，获取数据\\n\",\n",
    "import re       #正则表达式，进行文字匹配\\n\",\n",
    "import urllib.request,urllib.error      #制定URL，获取网页数据\\n\",\n",
    "# import xlwt     #进行excel操作\\n\",\n",
    "import sqlite3  #进行SQLite数据库操作\\n\",\n",
    "import pandas as pd #存储数据及处理数据\\n\",\n",
    "import numpy as np\n",
    "import requests\n",
    "import random\n",
    "import time\n",
    "from collections import defaultdict\n",
    "from collections import deque\n",
    "from collections import Counter\n",
    "import collections\n",
    "import json\n",
    "import sys\n",
    "import datetime\n",
    "import os\n",
    "import csv\n",
    "from math import *\n",
    "import pymysql\n",
    "# from geopy.distance import geodesic\n",
    "# from pyproj import Proj\n",
    "pd.set_option(\"display.max_columns\", 100)\n",
    "from fuzzywuzzy import fuzz\n",
    "from fuzzywuzzy import process"
   ]
  },
  {
   "cell_type": "code",
   "execution_count": 11,
   "id": "a86e48ae-2598-4946-b70f-2d8f5d875fd5",
   "metadata": {},
   "outputs": [],
   "source": [
    "# 连接数据库\n",
    "# '172.30.11.47' password '123456'\n",
    "# 本机ip 172.20.20.18\n",
    "db = pymysql.connect(\n",
    "                    host='172.20.20.18',\n",
    "                    port=3306,\n",
    "                    user='root',    #在这里输入用户名\n",
    "                    password='159230',     #在这里输入密码\n",
    "                    )\n",
    "cursor = db.cursor()\n",
    "sql = \"select count(1) from basedata_total.national_industry_11_to_17\"\n",
    "cursor.execute(sql)\n",
    "total_fp = cursor.fetchall()"
   ]
  },
  {
   "cell_type": "code",
   "execution_count": 12,
   "id": "63db9a6d-5ac8-49f7-99ba-7460bed39c5a",
   "metadata": {},
   "outputs": [
    {
     "data": {
      "text/plain": [
       "((1772,),)"
      ]
     },
     "execution_count": 12,
     "metadata": {},
     "output_type": "execute_result"
    }
   ],
   "source": [
    "total_fp"
   ]
  },
  {
   "cell_type": "code",
   "execution_count": null,
   "id": "f949d0b7-332a-4c57-9219-1223484687b8",
   "metadata": {},
   "outputs": [],
   "source": []
  }
 ],
 "metadata": {
  "kernelspec": {
   "display_name": "Python 3 (ipykernel)",
   "language": "python",
   "name": "python3"
  },
  "language_info": {
   "codemirror_mode": {
    "name": "ipython",
    "version": 3
   },
   "file_extension": ".py",
   "mimetype": "text/x-python",
   "name": "python",
   "nbconvert_exporter": "python",
   "pygments_lexer": "ipython3",
   "version": "3.9.13"
  }
 },
 "nbformat": 4,
 "nbformat_minor": 5
}
